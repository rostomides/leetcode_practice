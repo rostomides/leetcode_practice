{
 "cells": [
  {
   "cell_type": "markdown",
   "metadata": {},
   "source": [
    "3. Longest Substring Without Repeating Characters\n",
    "Medium\n",
    "\n",
    "Given a string, find the length of the longest substring without repeating characters.\n",
    "\n",
    "Example 1:\n",
    "\n",
    "Input: \"abcabcbb\"\n",
    "Output: 3 \n",
    "Explanation: The answer is \"abc\", with the length of 3. \n",
    "Example 2:\n",
    "\n",
    "Input: \"bbbbb\"\n",
    "Output: 1\n",
    "Explanation: The answer is \"b\", with the length of 1.\n",
    "Example 3:\n",
    "\n",
    "Input: \"pwwkew\"\n",
    "Output: 3\n",
    "Explanation: The answer is \"wke\", with the length of 3. \n",
    "             Note that the answer must be a substring, \"pwke\" is a subsequence and not a substring."
   ]
  },
  {
   "cell_type": "code",
   "execution_count": 25,
   "metadata": {},
   "outputs": [
    {
     "name": "stdout",
     "output_type": "stream",
     "text": [
      "2\n",
      "3\n",
      "3\n",
      "2\n",
      "3\n"
     ]
    }
   ],
   "source": [
    "def lengthOfLongestSubstring(s):\n",
    "    \"\"\"\n",
    "    :type s: str\n",
    "    :rtype: int\n",
    "    \"\"\"\n",
    "    # Case where the length is 1 return one\n",
    "    if len(s) == 1:\n",
    "            return 1\n",
    "        \n",
    "    lstring = 0 # Variable containing maximum string length\n",
    "    ts = \"\" # Variable storing the temporary strings\n",
    "    for i in s:\n",
    "        if i not in ts:\n",
    "            ts += i\n",
    "        else:\n",
    "            if len(ts) > lstring:\n",
    "                 lstring = len(ts)\n",
    "            ts = ts[ts.index(i)+1:] + i            \n",
    "    if len(ts) > lstring:\n",
    "        lstring = len(ts)\n",
    "            \n",
    "    return lstring\n",
    "print(lengthOfLongestSubstring(\"bbbbb \"))\n",
    "print(lengthOfLongestSubstring(\"abcabcbb\"))\n",
    "print(lengthOfLongestSubstring(\"pwwkew\"))\n",
    "print(lengthOfLongestSubstring(\"d  d\"))\n",
    "\n",
    "print(lengthOfLongestSubstring(\"dvdf\"))\n",
    "\n",
    "\n",
    "\n",
    "# Runtime: 24 ms, faster than 99.76% of Python online submissions for Longest Substring Without Repeating Characters.\n",
    "# Memory Usage: 12 MB, less than 67.19% of Python online submissions for Longest Substring Without Repeating Characters."
   ]
  },
  {
   "cell_type": "markdown",
   "metadata": {},
   "source": [
    "5. Longest Palindromic Substring\n",
    "\n",
    "Given a string s, find the longest palindromic substring in s. You may assume that the maximum length of s is 1000.\n",
    "\n",
    "\n",
    "Input: \"babad\"\n",
    "Output: \"bab\"\n",
    "Note: \"aba\" is also a valid answer.\n",
    "Example 2:\n",
    "\n",
    "Input: \"cbbd\"\n",
    "Output: \"bb\""
   ]
  },
  {
   "cell_type": "code",
   "execution_count": 341,
   "metadata": {},
   "outputs": [],
   "source": [
    "def longestPalindrome(s):\n",
    "        \"\"\"\n",
    "        :type s: str\n",
    "        :rtype: str\n",
    "        \"\"\"\n",
    "        # Check if s is empty\n",
    "        if s == \"\":\n",
    "            return \"\"\n",
    "        # If a string contains only one type of character return the whole string\n",
    "        if len(set(s)) == 1:\n",
    "            return s\n",
    "        \n",
    "        # If the string contains 2 characters compare the 2        \n",
    "        if len(s) == 2:\n",
    "            if s[0] == s[1]:\n",
    "                return s\n",
    "            else:\n",
    "                return s[0]\n",
    "            \n",
    "        if len(set(s)) == 1:\n",
    "            return s\n",
    "        \n",
    "        # Reverse the list\n",
    "        rs = s[::-1]\n",
    "        # Initialize the longest string with the first character of s\n",
    "        longest = s[0]\n",
    "        \n",
    "        for i in range(len(s)):\n",
    "            for j in range(i+1, len(s)):\n",
    "                if i == 0:\n",
    "                    if s[i:j+1] != rs[-j-1:]:\n",
    "                        continue\n",
    "                    else:\n",
    "                        if len(s[i:j+1]) > len(longest):\n",
    "                            longest = s[i:j+1]\n",
    "                    \n",
    "                else:\n",
    "                    if s[i:j+1] != rs[-j-1:-i]:\n",
    "                        continue\n",
    "                        \n",
    "                    else:\n",
    "                        if len(s[i:j+1]) > len(longest):\n",
    "                            longest = s[i:j+1]\n",
    "\n",
    "                        \n",
    "               \n",
    "                \n",
    "        \n",
    "        return longest\n",
    "    \n",
    "# Runtime: 3772 ms, faster than 29.35% of Python online submissions for Longest Palindromic Substring.\n",
    "# Memory Usage: 11.8 MB, less than 63.01% of Python online submissions for Longest Palindromic Substring.\n",
    "                    "
   ]
  },
  {
   "cell_type": "code",
   "execution_count": 342,
   "metadata": {},
   "outputs": [
    {
     "name": "stdout",
     "output_type": "stream",
     "text": [
      "bab\n"
     ]
    }
   ],
   "source": [
    "print(longestPalindrome(\"babad\"))\n",
    "# print(longestPalindrome(\"cbbd\"))\n",
    "# print(longestPalindrome(\"ac\"))\n",
    "# print(longestPalindrome(\"\"))\n",
    "# print(longestPalindrome(\"bb\"))\n",
    "\n",
    "# print(longestPalindrome(\"aacdefcaa\"))\n",
    "\n",
    "# print(longestPalindrome(\"abcda\"))\n",
    "# print(longestPalindrome(\"ffffffffffffffffffffffffffffffffffffffffffffffffffffffffffffffffffffffffffffffffffffffffffffffffffffffffffffffffffffffffffffffffffffffffffffffffffffffffffffffffffffffffffffffffffffffffffffffffffffffffffffffffffffffffffffffffffffffffffffffffffffffffffffffffffffffffffffffffffffffffffffffffffffffffffffffffffffffffffffffffffffffffffffffffffffffffffffffffffffffffffffffffffffffffffffffffffffffffffffffffffffffffffffffffffffffffffffffffffffffffffffffffffffffffffffffffffffffffffffffffffffffffffffffggggggggggggggggggggggggggggggggggggggggggggggggggggggggggggggggggggggggggggggggggggggggggggggggggggggggggggggggggggggggggggggggggggggggggggggggggggggggggggggggggggggggggggggggggggggggggggggggggggggggggggggggggggggggggggggggggggggggggggggggggggggggggggggggggggggggggggggggggggggggggggggggggggggggggggggggggggggggggggggggggggggggggggggggggggggggggggggggggggggggggggggggggggggggggggggggggggggggggggggggggggggggggggggggggggggggggggggggggggggggggggggggggggggggggggggggggggggggggggggggggggggggggggg\"))"
   ]
  },
  {
   "cell_type": "markdown",
   "metadata": {},
   "source": [
    "8. String to Integer (atoi)\n",
    "Medium\n",
    "\n",
    "Implement atoi which converts a string to an integer.\n",
    "\n",
    "The function first discards as many whitespace characters as necessary until the first non-whitespace character is found. Then, starting from this character, takes an optional initial plus or minus sign followed by as many numerical digits as possible, and interprets them as a numerical value.\n",
    "\n",
    "The string can contain additional characters after those that form the integral number, which are ignored and have no effect on the behavior of this function.\n",
    "\n",
    "If the first sequence of non-whitespace characters in str is not a valid integral number, or if no such sequence exists because either str is empty or it contains only whitespace characters, no conversion is performed.\n",
    "\n",
    "If no valid conversion could be performed, a zero value is returned.\n",
    "\n",
    "Note:\n",
    "\n",
    "Only the space character ' ' is considered as whitespace character.\n",
    "Assume we are dealing with an environment which could only store integers within the 32-bit signed integer range: [−231,  231 − 1]. If the numerical value is out of the range of representable values, INT_MAX (231 − 1) or INT_MIN (−231) is returned.\n",
    "Example 1:\n",
    "\n",
    "Input: \"42\"\n",
    "Output: 42\n",
    "Example 2:\n",
    "\n",
    "Input: \"   -42\"\n",
    "Output: -42\n",
    "Explanation: The first non-whitespace character is '-', which is the minus sign.\n",
    "             Then take as many numerical digits as possible, which gets 42.\n",
    "Example 3:\n",
    "\n",
    "Input: \"4193 with words\"\n",
    "Output: 4193\n",
    "Explanation: Conversion stops at digit '3' as the next character is not a numerical digit.\n",
    "Example 4:\n",
    "\n",
    "Input: \"words and 987\"\n",
    "Output: 0\n",
    "Explanation: The first non-whitespace character is 'w', which is not a numerical \n",
    "             digit or a +/- sign. Therefore no valid conversion could be performed.\n",
    "Example 5:\n",
    "\n",
    "Input: \"-91283472332\"\n",
    "Output: -2147483648\n",
    "Explanation: The number \"-91283472332\" is out of the range of a 32-bit signed integer.\n",
    "             Thefore INT_MIN (−231) is returned."
   ]
  },
  {
   "cell_type": "code",
   "execution_count": 76,
   "metadata": {},
   "outputs": [
    {
     "data": {
      "text/plain": [
       "0"
      ]
     },
     "execution_count": 76,
     "metadata": {},
     "output_type": "execute_result"
    }
   ],
   "source": [
    "def myAtoi(string):    \n",
    "    \"\"\"\n",
    "    :type str: str\n",
    "    :rtype: int\n",
    "    \"\"\"\n",
    "    import re \n",
    "    num = 0    \n",
    "    pattern = re.compile(r\"^\\s*((\\-|\\+)?[0-9]+)[^0-9]*.*$\")  \n",
    "\n",
    "    if re.search(pattern, string) is None:\n",
    "        return(num)\n",
    "    else:\n",
    "        num = re.search(pattern, string).group(1)\n",
    "        if int(num) <= math.pow(-2,31) :\n",
    "            return (int(math.pow(-2,31)))\n",
    "        elif int(num) >= math.pow(2,31) :\n",
    "            return (int(math.pow(2,31))-1)\n",
    "        else:         \n",
    "            return int(num)\n",
    "            \n",
    "            \n",
    "    \n",
    "# Runtime: 28 ms, faster than 32.81% of Python online submissions for String to Integer (atoi).\n",
    "# Memory Usage: 11.8 MB, less than 16.67% of Python online submissions for String to Integer (atoi)."
   ]
  },
  {
   "cell_type": "code",
   "execution_count": 132,
   "metadata": {},
   "outputs": [
    {
     "ename": "SyntaxError",
     "evalue": "invalid syntax (<ipython-input-132-a3feada3a199>, line 10)",
     "output_type": "error",
     "traceback": [
      "\u001b[1;36m  File \u001b[1;32m\"<ipython-input-132-a3feada3a199>\"\u001b[1;36m, line \u001b[1;32m10\u001b[0m\n\u001b[1;33m    if l[0] not in lis(\"+-0123456789\")\u001b[0m\n\u001b[1;37m                                      ^\u001b[0m\n\u001b[1;31mSyntaxError\u001b[0m\u001b[1;31m:\u001b[0m invalid syntax\n"
     ]
    }
   ],
   "source": [
    "def myAtoi(string):    \n",
    "    \"\"\"\n",
    "    :type str: str\n",
    "    :rtype: int\n",
    "    \"\"\"\n",
    "    integers = list(\"0123456789\")\n",
    "    num = \"\"\n",
    "    l = string.split(\" \")[0]\n",
    "    \n",
    "    if l[0] not in lis(\"+-0123456789\"):\n",
    "        return (0)\n",
    "    \n",
    "    elif l[0] in [\"-\", \"+\"]:\n",
    "        num += l[0]\n",
    "        for k in l[1:]:\n",
    "            if l[k] in integers:\n",
    "                num += l[k]\n",
    "            else: \n",
    "                break\n",
    "        if len(num)<2:\n",
    "            return (0)\n",
    "        \n",
    "    elif l[0] in integers:\n",
    "        num += l[0]\n",
    "        for k in l[1:]:\n",
    "            if l[k] in integers:\n",
    "                num += l[k]\n",
    "            else: \n",
    "                break\n",
    "    \n",
    "    \n",
    "    if int(num) <= math.pow(-2,31) :\n",
    "        return (int(math.pow(-2,31)))\n",
    "    elif int(num) >= math.pow(2,31) :\n",
    "        return (int(math.pow(2,31))-1)\n",
    "    else:         \n",
    "        return int(num)\n"
   ]
  },
  {
   "cell_type": "code",
   "execution_count": null,
   "metadata": {},
   "outputs": [],
   "source": []
  }
 ],
 "metadata": {
  "kernelspec": {
   "display_name": "Python 3",
   "language": "python",
   "name": "python3"
  },
  "language_info": {
   "codemirror_mode": {
    "name": "ipython",
    "version": 3
   },
   "file_extension": ".py",
   "mimetype": "text/x-python",
   "name": "python",
   "nbconvert_exporter": "python",
   "pygments_lexer": "ipython3",
   "version": "3.7.1"
  }
 },
 "nbformat": 4,
 "nbformat_minor": 2
}
